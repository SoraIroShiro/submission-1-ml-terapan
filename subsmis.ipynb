{
 "cells": [
  {
   "cell_type": "code",
   "execution_count": 2,
   "id": "009228e3",
   "metadata": {},
   "outputs": [],
   "source": [
    "import pandas as pd\n",
    "from sklearn.model_selection import train_test_split\n",
    "from sklearn.preprocessing import LabelEncoder\n",
    "from xgboost import XGBRegressor\n",
    "from sklearn.metrics import mean_absolute_error, mean_squared_error, r2_score\n",
    "from sklearn.model_selection import cross_val_score\n",
    "import numpy as np"
   ]
  },
  {
   "cell_type": "code",
   "execution_count": null,
   "id": "5c53fa21",
   "metadata": {},
   "outputs": [],
   "source": [
    "# Load data\n",
    "df = pd.read_csv('datasets/student_mental_health_dataset.csv')\n",
    "\n",
    "# Hapus duplikasi & missing value\n",
    "df_clean = df.drop_duplicates().dropna()\n",
    "\n",
    "# Encoding fitur kategorikal\n",
    "le_gender = LabelEncoder()\n",
    "le_diet = LabelEncoder()\n",
    "le_mhs = LabelEncoder()\n",
    "\n",
    "df_clean['Gender'] = le_gender.fit_transform(df_clean['Gender'])\n",
    "df_clean['Diet_Quality'] = le_diet.fit_transform(df_clean['Diet_Quality'])\n",
    "df_clean['Mental_Health_Status'] = le_mhs.fit_transform(df_clean['Mental_Health_Status'])"
   ]
  },
  {
   "cell_type": "code",
   "execution_count": 4,
   "id": "abcef5bf",
   "metadata": {},
   "outputs": [],
   "source": [
    "df_fe = df_clean.copy()\n",
    "df_fe['Sleep_Deficit'] = 8 - df_fe['Sleep_Hours']\n",
    "df_fe['Screen_Study_Ratio'] = df_fe['Screen_Time_Hours'] / (df_fe['Study_Hours'] + 1e-3)\n",
    "df_fe['Activity_Efficiency'] = df_fe['Physical_Activity_Minutes'] / (df_fe['Sleep_Hours'] + 1e-3)\n",
    "\n",
    "# Pilih fitur dan target\n",
    "X = df_fe.drop(['Stress_Level'], axis=1)\n",
    "y = df_fe['Stress_Level']"
   ]
  },
  {
   "cell_type": "code",
   "execution_count": 6,
   "id": "9ded1d4d",
   "metadata": {},
   "outputs": [],
   "source": [
    "X_train, X_test, y_train, y_test = train_test_split(X, y, test_size=0.2, random_state=42)"
   ]
  },
  {
   "cell_type": "code",
   "execution_count": 7,
   "id": "90ee7682",
   "metadata": {},
   "outputs": [],
   "source": [
    "xgb = XGBRegressor(random_state=42)\n",
    "xgb.fit(X_train, y_train)\n",
    "y_pred = xgb.predict(X_test)"
   ]
  },
  {
   "cell_type": "code",
   "execution_count": 8,
   "id": "1ecf7954",
   "metadata": {},
   "outputs": [
    {
     "name": "stdout",
     "output_type": "stream",
     "text": [
      "MAE: 3.05\n",
      "RMSE: 3.60\n",
      "R² Score: -0.48\n"
     ]
    }
   ],
   "source": [
    "mae = mean_absolute_error(y_test, y_pred)\n",
    "rmse = np.sqrt(mean_squared_error(y_test, y_pred))\n",
    "r2 = r2_score(y_test, y_pred)\n",
    "\n",
    "print(f\"MAE: {mae:.2f}\")\n",
    "print(f\"RMSE: {rmse:.2f}\")\n",
    "print(f\"R² Score: {r2:.2f}\")"
   ]
  },
  {
   "cell_type": "code",
   "execution_count": 9,
   "id": "7d259639",
   "metadata": {},
   "outputs": [
    {
     "name": "stdout",
     "output_type": "stream",
     "text": [
      "R² Score tiap fold: [-0.28378391 -0.32915747 -0.27696657 -0.49552488 -0.18188798]\n",
      "Rata-rata R² Score CV: -0.3134641647338867\n"
     ]
    }
   ],
   "source": [
    "cv_scores = cross_val_score(xgb, X, y, cv=5, scoring='r2')\n",
    "print(\"R² Score tiap fold:\", cv_scores)\n",
    "print(\"Rata-rata R² Score CV:\", np.mean(cv_scores))"
   ]
  }
 ],
 "metadata": {
  "kernelspec": {
   "display_name": ".venv",
   "language": "python",
   "name": "python3"
  },
  "language_info": {
   "codemirror_mode": {
    "name": "ipython",
    "version": 3
   },
   "file_extension": ".py",
   "mimetype": "text/x-python",
   "name": "python",
   "nbconvert_exporter": "python",
   "pygments_lexer": "ipython3",
   "version": "3.9.12"
  }
 },
 "nbformat": 4,
 "nbformat_minor": 5
}
